{
 "cells": [
  {
   "cell_type": "code",
   "execution_count": 1,
   "source": [
    "def chcount(word):\r\n",
    "    counts= {}\r\n",
    "    for ch in word:\r\n",
    "        if ch in counts:\r\n",
    "            counts[ch] = counts[ch] + 1\r\n",
    "        else:\r\n",
    "            counts[ch] = 1\r\n",
    "    return counts\r\n",
    "\r\n",
    "\r\n",
    "counts1 =chcount('evil')\r\n",
    "counts2 =chcount('live')\r\n",
    "\r\n",
    "if counts1 == counts2: \r\n",
    "    print('anagrams')\r\n",
    "else:\r\n",
    "    print('not anagrams')"
   ],
   "outputs": [
    {
     "output_type": "stream",
     "name": "stdout",
     "text": [
      "anagrams\n"
     ]
    }
   ],
   "metadata": {}
  },
  {
   "cell_type": "code",
   "execution_count": 2,
   "source": [
    "factorial = 1\r\n",
    "num=5\r\n",
    "if num > 0 :\r\n",
    "    for i in range(1,num+1):\r\n",
    "        factorial = factorial * i \r\n",
    "    print(factorial)\r\n",
    "else :\r\n",
    "    print('error')"
   ],
   "outputs": [
    {
     "output_type": "stream",
     "name": "stdout",
     "text": [
      "120\n"
     ]
    }
   ],
   "metadata": {}
  },
  {
   "cell_type": "code",
   "execution_count": 5,
   "source": [
    "from random import randrange\r\n",
    "num_per_letter=15\r\n",
    "\r\n",
    "def createCard():\r\n",
    "    card ={}\r\n",
    "lower = 1\r\n",
    "upper = 1 + num_per_letter\r\n",
    "\r\n",
    "for letter in [\"b\",\"i\",\"n\",\"g\",\"o\"]:\r\n",
    "    card[letter]=[]\r\n",
    "\r\n",
    "    while len(card[letter]) !=5:\r\n",
    "        next_num = randrage(lower,upper)\r\n",
    "        if next_num not in card[letter]:\r\n",
    "            card[letter].append(next_num)\r\n",
    "\r\n",
    "    lower = lower + num_per_letter\r\n",
    "    upper = upper + num_per_letter\r\n",
    "\r\n",
    "return card\r\n",
    "\r\n",
    "\r\n",
    "card=createCard()\r\n",
    "displayCard(card)"
   ],
   "outputs": [
    {
     "output_type": "error",
     "ename": "NameError",
     "evalue": "name 'card' is not defined",
     "traceback": [
      "\u001b[1;31m---------------------------------------------------------------------------\u001b[0m",
      "\u001b[1;31mNameError\u001b[0m                                 Traceback (most recent call last)",
      "\u001b[1;32m~\\AppData\\Local\\Temp/ipykernel_15564/629427432.py\u001b[0m in \u001b[0;36m<module>\u001b[1;34m\u001b[0m\n\u001b[0;32m      8\u001b[0m \u001b[1;33m\u001b[0m\u001b[0m\n\u001b[0;32m      9\u001b[0m \u001b[1;32mfor\u001b[0m \u001b[0mletter\u001b[0m \u001b[1;32min\u001b[0m \u001b[1;33m[\u001b[0m\u001b[1;34m\"b\"\u001b[0m\u001b[1;33m,\u001b[0m\u001b[1;34m\"i\"\u001b[0m\u001b[1;33m,\u001b[0m\u001b[1;34m\"n\"\u001b[0m\u001b[1;33m,\u001b[0m\u001b[1;34m\"g\"\u001b[0m\u001b[1;33m,\u001b[0m\u001b[1;34m\"o\"\u001b[0m\u001b[1;33m]\u001b[0m\u001b[1;33m:\u001b[0m\u001b[1;33m\u001b[0m\u001b[1;33m\u001b[0m\u001b[0m\n\u001b[1;32m---> 10\u001b[1;33m     \u001b[0mcard\u001b[0m\u001b[1;33m[\u001b[0m\u001b[0mletter\u001b[0m\u001b[1;33m]\u001b[0m\u001b[1;33m=\u001b[0m\u001b[1;33m[\u001b[0m\u001b[1;33m]\u001b[0m\u001b[1;33m\u001b[0m\u001b[1;33m\u001b[0m\u001b[0m\n\u001b[0m\u001b[0;32m     11\u001b[0m \u001b[1;33m\u001b[0m\u001b[0m\n\u001b[0;32m     12\u001b[0m     \u001b[1;32mwhile\u001b[0m \u001b[0mlen\u001b[0m\u001b[1;33m(\u001b[0m\u001b[0mcard\u001b[0m\u001b[1;33m[\u001b[0m\u001b[0mletter\u001b[0m\u001b[1;33m]\u001b[0m\u001b[1;33m)\u001b[0m \u001b[1;33m!=\u001b[0m\u001b[1;36m5\u001b[0m\u001b[1;33m:\u001b[0m\u001b[1;33m\u001b[0m\u001b[1;33m\u001b[0m\u001b[0m\n",
      "\u001b[1;31mNameError\u001b[0m: name 'card' is not defined"
     ]
    }
   ],
   "metadata": {}
  }
 ],
 "metadata": {
  "orig_nbformat": 4,
  "language_info": {
   "name": "python",
   "version": "3.8.12",
   "mimetype": "text/x-python",
   "codemirror_mode": {
    "name": "ipython",
    "version": 3
   },
   "pygments_lexer": "ipython3",
   "nbconvert_exporter": "python",
   "file_extension": ".py"
  },
  "kernelspec": {
   "name": "python3",
   "display_name": "Python 3.8.12 64-bit ('ml': conda)"
  },
  "interpreter": {
   "hash": "ff1e2c4a7e03eeb4e26e4d26d514da215ebf38dfce64ba6fdcc533779cdbe8b5"
  }
 },
 "nbformat": 4,
 "nbformat_minor": 2
}